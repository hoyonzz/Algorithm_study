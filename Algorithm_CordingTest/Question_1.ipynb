{
  "nbformat": 4,
  "nbformat_minor": 0,
  "metadata": {
    "colab": {
      "private_outputs": true,
      "provenance": [],
      "authorship_tag": "ABX9TyP6GHgxQPJAcCOyJQL0yc6v",
      "include_colab_link": true
    },
    "kernelspec": {
      "name": "python3",
      "display_name": "Python 3"
    },
    "language_info": {
      "name": "python"
    }
  },
  "cells": [
    {
      "cell_type": "markdown",
      "metadata": {
        "id": "view-in-github",
        "colab_type": "text"
      },
      "source": [
        "<a href=\"https://colab.research.google.com/github/hoyonzz/Algorithm_study/blob/main/Algorithm_CordingTest/Untitled6.ipynb\" target=\"_parent\"><img src=\"https://colab.research.google.com/assets/colab-badge.svg\" alt=\"Open In Colab\"/></a>"
      ]
    },
    {
      "cell_type": "code",
      "execution_count": null,
      "metadata": {
        "id": "d5D1R_H2PAgk"
      },
      "outputs": [],
      "source": [
        "n = input(int())\n",
        "arr = list(input())\n",
        "sum = 0\n",
        "\n",
        "for i in arr:\n",
        "    sum += int(i)\n",
        "\n",
        "print(sum)"
      ]
    }
  ]
}
