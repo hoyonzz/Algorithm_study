{
  "nbformat": 4,
  "nbformat_minor": 0,
  "metadata": {
    "colab": {
      "private_outputs": true,
      "provenance": [],
      "authorship_tag": "ABX9TyOuoK0YR6jx7ETnSeD78IkZ",
      "include_colab_link": true
    },
    "kernelspec": {
      "name": "python3",
      "display_name": "Python 3"
    },
    "language_info": {
      "name": "python"
    }
  },
  "cells": [
    {
      "cell_type": "markdown",
      "metadata": {
        "id": "view-in-github",
        "colab_type": "text"
      },
      "source": [
        "<a href=\"https://colab.research.google.com/github/hoyonzz/Algorithm_study/blob/main/Algorithm_CordingTest/Question_3.ipynb\" target=\"_parent\"><img src=\"https://colab.research.google.com/assets/colab-badge.svg\" alt=\"Open In Colab\"/></a>"
      ]
    },
    {
      "cell_type": "code",
      "execution_count": null,
      "metadata": {
        "id": "Bv9voiHphykX"
      },
      "outputs": [],
      "source": [
        "n, m = map(int, input().split())\n",
        "A = list(map(int, input().split()))\n",
        "S = [0]\n",
        "tmp = 0\n",
        "\n",
        "for i in A:\n",
        "    tmp += i\n",
        "    S.append(tmp)\n",
        "\n",
        "for k in range(m):\n",
        "    i, j = map(int, input().split())\n",
        "    print(S[j]-S[i-1])\n",
        "\n"
      ]
    }
  ]
}