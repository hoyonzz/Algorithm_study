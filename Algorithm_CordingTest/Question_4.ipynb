{
  "nbformat": 4,
  "nbformat_minor": 0,
  "metadata": {
    "colab": {
      "private_outputs": true,
      "provenance": [],
      "authorship_tag": "ABX9TyOS43R2rfhAE+daSDZSSRGg",
      "include_colab_link": true
    },
    "kernelspec": {
      "name": "python3",
      "display_name": "Python 3"
    },
    "language_info": {
      "name": "python"
    }
  },
  "cells": [
    {
      "cell_type": "markdown",
      "metadata": {
        "id": "view-in-github",
        "colab_type": "text"
      },
      "source": [
        "<a href=\"https://colab.research.google.com/github/hoyonzz/Algorithm_study/blob/main/Algorithm_CordingTest/Question_4.ipynb\" target=\"_parent\"><img src=\"https://colab.research.google.com/assets/colab-badge.svg\" alt=\"Open In Colab\"/></a>"
      ]
    },
    {
      "cell_type": "code",
      "execution_count": null,
      "metadata": {
        "id": "nksS_6ZSyVPa"
      },
      "outputs": [],
      "source": [
        "n, m = map(int, input().split())\n",
        "\n",
        "A = [[0]*(n+1)]\n",
        "\n",
        "for _ in range(n):\n",
        "    A.append([0]+list(map(int, input().split())))\n",
        "\n",
        "D = [[0]*(n+1) for _ in range(n+1)]\n",
        "\n",
        "for i in range(1, n+1):\n",
        "    for j in range(1, n+1):\n",
        "        D[i][j] = D[i][j-1] + D[i-1][j] - D[i-1][j-1] + A[i][j]\n",
        "\n",
        "for _ in range(m):\n",
        "    x1, y1, x2, y2 = map(int, input().split())\n",
        "    print(D[x2][y2]-D[x2][y1-1]-D[x1-1][y2]+D[x1-1][y1-1])"
      ]
    }
  ]
}